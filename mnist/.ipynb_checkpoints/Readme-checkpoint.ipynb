{
 "cells": [
  {
   "cell_type": "markdown",
   "id": "04bf27b5",
   "metadata": {},
   "source": [
    "### This folder includes scripts for in-situ backpropagation ONN training/evaluation on MNIST dataset. \n",
    "\n",
    "We overload several functions/moduels in the neurophox package (in generic_taps.py and layers.py) to support this simulation. For now it only works for two-layers traingular mesh. We will include a more generic implementation in the next neurophox update."
   ]
  },
  {
   "cell_type": "markdown",
   "id": "b6b20bf4",
   "metadata": {},
   "source": [
    "### Training\n",
    "To run the in-situ backpropagation ONN training on MNIST dataset, please use the command:\n",
    "\n",
    "<code>python mnist_insitu_train.py</code>\n",
    "\n",
    "+ To add errors during training, please use --a_error, --p_error, --poiss_K arguments (default 0). For definitions of these parameters, please refer to the technical paper.\n",
    "+ To specify number of epochs, please use --num_epochs argument (default 30)\n",
    "+ To specify learning rate, plase use --learning_rate argument (default 0.001)"
   ]
  },
  {
   "cell_type": "markdown",
   "id": "1ab8703a",
   "metadata": {},
   "source": [
    "### Evaluation\n",
    "To run evaluations, please use the command:\n",
    "\n",
    "<code>python mnist_inistu_eval.py --log_dir $Path containing saved checkpoints </code>"
   ]
  }
 ],
 "metadata": {
  "kernelspec": {
   "display_name": "Python 3 (ipykernel)",
   "language": "python",
   "name": "python3"
  },
  "language_info": {
   "codemirror_mode": {
    "name": "ipython",
    "version": 3
   },
   "file_extension": ".py",
   "mimetype": "text/x-python",
   "name": "python",
   "nbconvert_exporter": "python",
   "pygments_lexer": "ipython3",
   "version": "3.7.12"
  }
 },
 "nbformat": 4,
 "nbformat_minor": 5
}
